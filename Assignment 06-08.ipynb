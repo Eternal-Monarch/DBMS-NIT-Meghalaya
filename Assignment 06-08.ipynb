result =db.Student.find().sort({ "Mark": -1 });
# Print the results
for student in result:
    print(student)
