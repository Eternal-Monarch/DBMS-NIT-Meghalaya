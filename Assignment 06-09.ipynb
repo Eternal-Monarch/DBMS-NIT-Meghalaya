result = db.Student.find({}).sort({ "Age": 1 }).limit(1);


# Print the results
for student in result:
    print(student)
