# ASSIGNMENT -7
# 7.Calculate the average age of all students.
result = db.Student.aggregate([
    {
        "$group": {
            "_id": None,
            "averageAge": { "$avg": "$Age" }
        }
    }
])

# Extract the result
average_age_result = next(result, None)

# Print the average age
if average_age_result:
    print("Average Age of all students:", average_age_result["averageAge"])
else:
    print("No students found.")
