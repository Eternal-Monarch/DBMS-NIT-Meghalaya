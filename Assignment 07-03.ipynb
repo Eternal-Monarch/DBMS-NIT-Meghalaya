# ASSIGNMENT -7
# 3. Increase the Age of all students by 1
db.Student.update_many(
    {},
    { "$inc": { "Age": 1 } }
)

