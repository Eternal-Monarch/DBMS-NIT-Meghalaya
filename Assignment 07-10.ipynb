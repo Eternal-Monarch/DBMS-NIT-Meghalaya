# ASSIGNMENT -7
# 10.Remove all the students whose mark is less than 60.
db.Student.delete_many({ "Mark": { "$lt": 60 } })
