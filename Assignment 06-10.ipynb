# Find all students in the "Physics" department whose RollNum is greater than or equal to 70
result = db.Student.find({ "Department": "Physics", "RollNum": { "$gte": 70 } })

# Print the results
for student in result:
    print(student)
