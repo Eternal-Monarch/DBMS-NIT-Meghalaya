# ASSIGNMENT -7
#5.Reduce 10 Marks for all students in the "Mathematics" department.
db.Student.update_many(
    { "Department": "Mathematics" },
    { "$inc": { "Mark": -10 } }
)
