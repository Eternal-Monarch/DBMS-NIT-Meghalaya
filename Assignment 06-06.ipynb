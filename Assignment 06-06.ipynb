
# Find all students whose mark is less than 60
result = db.Student.find({"Mark": {"$lt": 60}})

# Print the results
for student in result:
    print(student)
