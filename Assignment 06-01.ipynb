# Question No : -01 
# 1. Design a MongoDB schema for a "Student" collection with the following fields:
# a. RollNum
# b. FirstName
# c. LastName
# d. Age
# e. Department
# f. Mark

db = client.student  # Replace 'school' with your database name

# Define the schema for the "Student" collection
student_schema = {
    "RollNum": int,
    "FirstName": str,
    "LastName": str,
    "Age": int,
    "Department": str,
    "Mark": int
}

# Create the "Student" collection with the defined schema
student_collection = db.Student

# Inserting one document with the specified schema to ensure collection creation
student_collection.insert_one({
    "RollNum": 0,
    "FirstName": "Sample",
    "LastName": "Student",
    "Age": 0,
    "Department": "Sample",
    "Mark": 0
})

# Drop the sample document (optional)
student_collection.delete_one({"RollNum": 0})

# Now the "Student" collection is created with the specified schema
print("Schema for 'Student' collection created.")
