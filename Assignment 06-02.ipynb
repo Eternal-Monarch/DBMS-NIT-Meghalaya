# Question no : 02 


# 2. Insert the following student data in the collection.
# RollNum FirstName LastName Age Department Mark
# 43 John Doe 20 Computer Science 78
# 67 Alice Smith 22 Physics 59
# 23 Bob Johnson 21 Computer Science 81
# 18 Eve Adams 19 Mathematics 56
# 84 Mike Brown 23 Physics 92

student_schema = {
    "RollNum": int,
    "FirstName": str,
    "LastName": str,
    "Age": int,
    "Department": str,
    "Mark": int
}
