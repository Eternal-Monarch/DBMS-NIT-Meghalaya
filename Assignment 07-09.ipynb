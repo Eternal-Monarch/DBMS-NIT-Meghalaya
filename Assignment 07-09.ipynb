# ASSIGNMENT -7
# 9.Remove all the students of the "Mathematics" department

db.Student.delete_many({ "Department": "Mathematics" })
