# ASSIGNMENT -7
#8.Calculate the average Mark of all students in the "Physical Science" department.
result = db.Student.aggregate([
    {
        "$match": { "Department": "Physical Science" }
    },
    {
        "$group": {
            "_id": None,
            "averageMark": { "$avg": "$Mark" }
        }
    }
])

# Extract the result
average_mark_result = next(result, None)

# Print the average mark
if average_mark_result:
    print("Average Mark of students in Physical Science department:", average_mark_result["averageMark"])
else:
    print("No students found in the Physical Science department.")
