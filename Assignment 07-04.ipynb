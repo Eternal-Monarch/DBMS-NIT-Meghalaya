# ASSIGNMENT -7
# 4.Increment 5 Mark for all students in the "Computer Science" department.

db.Student.update_many(
    { "Department": "Computer Science" },
    { "$inc": { "Mark": 5 } }
)
