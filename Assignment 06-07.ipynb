result =db.Student.find({ "Department": "Physics" }, { "FirstName": 1, "Mark": 1, "_id": 0 });
# Print the results
for student in result:
    print(student)
