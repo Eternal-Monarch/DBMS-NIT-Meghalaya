# ASSIGNMENT -7
#2. Update the student's age with Rollnum 67 to 26 years.

db.Student.update_one(
    { "RollNum": 67 },
    { "$set": { "Age": 26 } }
)
