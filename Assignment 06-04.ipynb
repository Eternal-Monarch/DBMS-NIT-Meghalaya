# Question no : 04
# 4. Write a MongoDB query to find all students in the "Computer Science" department.
output=db.Student.find({ "Department": "Computer Science" });

for student in output:
    print(student)
