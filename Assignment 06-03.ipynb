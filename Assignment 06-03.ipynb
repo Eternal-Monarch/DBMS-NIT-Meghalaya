# Question no : 03
# 3. Write a MongoDB query to find all students.
student_data = [
    { "RollNum": 43, "FirstName": "John", "LastName": "Doe", "Age": 20, "Department": "Computer Science", "Mark": 78 },
    { "RollNum": 67, "FirstName": "Alice", "LastName": "Smith", "Age": 22, "Department": "Physics", "Mark": 59 },
    { "RollNum": 23, "FirstName": "Bob", "LastName": "Johnson", "Age": 21, "Department": "Computer Science", "Mark": 81 },
    { "RollNum": 18, "FirstName": "Eve", "LastName": "Adams", "Age": 19, "Department": "Mathematics", "Mark": 56 },
    { "RollNum": 84, "FirstName": "Mike", "LastName": "Brown", "Age": 23, "Department": "Physics", "Mark": 92 }
]

student_collection = db.Student

# Insert data into the "Student" collection
result = student_collection.insert_many(student_data)
print(f"{len(result.inserted_ids)} documents inserted")
