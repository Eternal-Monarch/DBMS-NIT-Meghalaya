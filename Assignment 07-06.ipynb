# ASSIGNMENT -7
#6.Update the Department name of all students in the "Physics" department to “Physical Science”.

db.Student.update_many(
    { "Department": "Physics" },
    { "$set": { "Department": "Physical Science" } }
)
