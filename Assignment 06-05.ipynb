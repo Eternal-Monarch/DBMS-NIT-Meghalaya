# Question no : 05
# 5. Write a MongoDB query to find all students whose age is greater than or equal to 20.


result = db.Student.find({"Age": {"$gte": 20}})

# Print the results
for student in result:
    print(student)
